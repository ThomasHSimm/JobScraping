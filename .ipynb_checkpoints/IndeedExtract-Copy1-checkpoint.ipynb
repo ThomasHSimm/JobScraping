{
 "cells": [
  {
   "cell_type": "code",
   "execution_count": 1,
   "id": "810713f1",
   "metadata": {},
   "outputs": [],
   "source": [
    "import requests\n",
    "import bs4\n",
    "from bs4 import BeautifulSoup\n",
    "import pandas as pd\n",
    "import numpy as np"
   ]
  },
  {
   "cell_type": "code",
   "execution_count": 2,
   "id": "a0e1b765",
   "metadata": {},
   "outputs": [],
   "source": [
    "URL=\"https://uk.indeed.com/jobs?q=data+analyst&l=Swansea%2C+Swansea\"#conducting a request of the stated URL above:\n",
    "page = requests.get(URL)#specifying a desired format of “page” using the html parser - this allows python to read the various components of the page, rather than treating it as one long string.\n",
    "soup = BeautifulSoup(page.text, \"html.parser\")#printing soup in a more structured tree format that makes for easier reading\n"
   ]
  },
  {
   "cell_type": "code",
   "execution_count": 6,
   "id": "721a5ec6",
   "metadata": {},
   "outputs": [
    {
     "data": {
      "text/plain": [
       "<script src=\"//d3fw5vlhllyvee.cloudfront.net/s/f180b73/en_GB.js\" type=\"text/javascript\"></script>"
      ]
     },
     "execution_count": 6,
     "metadata": {},
     "output_type": "execute_result"
    }
   ],
   "source": [
    "hi"
   ]
  },
  {
   "cell_type": "code",
   "execution_count": 45,
   "id": "b805bfa8",
   "metadata": {},
   "outputs": [],
   "source": [
    "i=0\n",
    "aa=[]\n",
    "for hi in soup.select('script[type=\"text/javascript\"]'):\n",
    "    try:\n",
    "        if 'jobmap[' in hi.string: \n",
    "#             print(i,hi,'\\n--------------------')\n",
    "            aa= hi.string\n",
    "            i=i+1\n",
    "    except:\n",
    "        pass\n",
    "i=0\n",
    "hh=[]\n",
    "for bb in aa.split('jobmap['):\n",
    "    if bb[1]==']':\n",
    "        hh.append(bb)\n",
    "    elif bb[2]==']':\n",
    "        hh.append(bb)\n"
   ]
  },
  {
   "cell_type": "code",
   "execution_count": 50,
   "id": "9f9bfa9f",
   "metadata": {},
   "outputs": [
    {
     "name": "stdout",
     "output_type": "stream",
     "text": [
      ":'Swansea Council',\n",
      ":'Academy for Project Managment Ltd',\n",
      ":'Shawbrook Bank',\n",
      ":'PRA Health Sciences',\n",
      ":'Driver and Vehicle Licensing Agency',\n",
      ":'Page Personnel - UK',\n",
      ":'Driver and Vehicle Licensing Agency',\n",
      ":'Driver and Vehicle Licensing Agency',\n",
      ":'Cwm Taf Morgannwg University Health Board',\n",
      ":'Business in Focus',\n",
      ":'The Royal Mint',\n",
      ":'Alexander Mann Solution\\'s',\n"
     ]
    }
   ],
   "source": [
    "for jobs in hh:\n",
    "    print(jobs.split('srcname:')[1].split('cmp')[1])"
   ]
  },
  {
   "cell_type": "code",
   "execution_count": 51,
   "id": "2f2fcafc",
   "metadata": {},
   "outputs": [
    {
     "data": {
      "text/plain": [
       "[\"0]= {jk:'3c1e48cd6c83ad24',efccid: '0ae978bd8c21ae87',srcid:'20d644d7c8e7dae3',cmpid:'e592d92a621381e7',num:'0',srcname:'Swansea Council',cmp:'Swansea Council',cmpesc:'Swansea Council',cmplnk:'/Swansea-Council-jobs-in-Swansea,-Swansea',loc:'Swansea',country:'GB',zip:'',city:'Swansea',title:'Data Analyst',locid:'ed58c43d8d00c84e',rd:'0HcsNzDq-OLJ6bT4SC-8zIPImMeVy3k-_nEJl51we12ZvbzkAWxJqbKdkXltO8Sk'};\\n\\n\",\n",
       " \"1]= {jk:'0600657fb0dd9aad',efccid: '442f6b7962389124',srcid:'2de48447b224374d',cmpid:'5ae81e4c839c4e24',num:'1',srcname:'Indeed',cmp:'Academy for Project Managment Ltd',cmpesc:'Academy for Project Managment Ltd',cmplnk:'/Academy-for-Project-Managment-jobs-in-Swansea,-Swansea',loc:'Neath SA11',country:'GB',zip:'SA11 1EF',city:'Neath',title:'Data Analyst Assessor (Freelance)',locid:'c911d7c0a9fac061',rd:'twcb2ZEJnz8JwcbwiR9wTQI0_gGvvzTiA8zPyeS85kB4A1ZBc24fPsSNrtr8HGx9'};\\n\\n\",\n",
       " \"2]= {jk:'89b7a70cf853f8ae',efccid: 'b9d3ba9475f8dbbe',srcid:'255f4f7c3597ca54',cmpid:'dd79cfa087f5f303',num:'2',srcname:'Shawbrook Bank',cmp:'Shawbrook Bank',cmpesc:'Shawbrook Bank',cmplnk:'/Shawbrook-Bank-jobs-in-Swansea,-Swansea',loc:'United Kingdom',country:'GB',zip:'',city:'',title:'Operational Risk Analyst',locid:'f0ac38ebea2caf16',rd:'E4fhWX_aAFqF37QMCtQEyncc_JBvsRhSlc11-1IW98XIZaCrypEfA2kE95Y3AOWB'};\\n\\n\",\n",
       " \"3]= {jk:'9c70673b8382387a',efccid: 'fbbbc9317717909a',srcid:'76f8fc789e43aaaa',cmpid:'cf7917ded0dce4a7',num:'3',srcname:'PRA Health Sciences',cmp:'PRA Health Sciences',cmpesc:'PRA Health Sciences',cmplnk:'/PRA-Health-Sciences-jobs-in-Swansea,-Swansea',loc:'Swansea',country:'GB',zip:'',city:'Swansea',title:'Grants Analyst',locid:'ed58c43d8d00c84e',rd:'fmQo99wCEscDVgmVOMcwfKdbHsuaUWFUAUlJ-hwMenp9gGQoPF7L-hW3DJCqP-Mb'};\\n\\n\",\n",
       " \"4]= {jk:'09753c16235c0294',efccid: '285e70ab047fec3c',srcid:'015833196085513b',cmpid:'3da04e35ee578ec1',num:'4',srcname:'Civil Service',cmp:'Driver and Vehicle Licensing Agency',cmpesc:'Driver and Vehicle Licensing Agency',cmplnk:'/Driver-and-Vehicle-Licensing-Agency-jobs-in-Swansea,-Swansea',loc:'Swansea',country:'GB',zip:'',city:'Swansea',title:'Associate Business Analyst',locid:'ed58c43d8d00c84e',rd:'2xoO0TjyPVRYyCMAB-zZvZ2Q8OCKdMjQGmwoUyvV_1BWAHUJR-dl_GqxQubDgbDj'};\\n\\n\",\n",
       " \"5]= {jk:'9d4d3a5a07f314a8',efccid: '1caca90f6d54a6c6',srcid:'16180eed1d72343c',cmpid:'0fcedb14580678f0',num:'5',srcname:'Page Personnel - UK',cmp:'Page Personnel - UK',cmpesc:'Page Personnel - UK',cmplnk:'/jobs?q=Page+Personnel+-+UK&l=Swansea,+Swansea',loc:'Swansea',country:'GB',zip:'',city:'Swansea',title:'Data Analyst',locid:'ed58c43d8d00c84e',rd:'ID3r8zo9PR2y-cNXBZlqKYJp0D5QNx55bEUUgXCVHIIx8QSBQNU1FQel__UwqU_I'};\\n\\n\",\n",
       " \"6]= {jk:'3892e819e5907c9f',efccid: '285e70ab047fec3c',srcid:'015833196085513b',cmpid:'3da04e35ee578ec1',num:'6',srcname:'Civil Service',cmp:'Driver and Vehicle Licensing Agency',cmpesc:'Driver and Vehicle Licensing Agency',cmplnk:'/Driver-and-Vehicle-Licensing-Agency-jobs-in-Swansea,-Swansea',loc:'Swansea',country:'GB',zip:'',city:'Swansea',title:'Senior Business Analyst',locid:'ed58c43d8d00c84e',rd:'L1jYwnlK9Pyu3RXUemdg711XMRVydWfSnfLgift-7x_aM7D10DP5YAUUSpFQ6zII'};\\n\\n\",\n",
       " \"7]= {jk:'041e77719dd926f3',efccid: '285e70ab047fec3c',srcid:'015833196085513b',cmpid:'3da04e35ee578ec1',num:'7',srcname:'Civil Service',cmp:'Driver and Vehicle Licensing Agency',cmpesc:'Driver and Vehicle Licensing Agency',cmplnk:'/Driver-and-Vehicle-Licensing-Agency-jobs-in-Swansea,-Swansea',loc:'Swansea',country:'GB',zip:'',city:'Swansea',title:'Lead Business Analyst',locid:'ed58c43d8d00c84e',rd:'PWfcGNFA7tgIDxGVBcVa2PahYNwdiVSJZxl_JFWys26T0pt2znMsYUJ36kWSiEIH'};\\n\\n\",\n",
       " \"8]= {jk:'8f4f625b330076c2',efccid: '5fd2b26d40d66473',srcid:'a86660b1550efe04',cmpid:'dc7ba37a94b7ca84',num:'8',srcname:'NHS Jobs',cmp:'Cwm Taf Morgannwg University Health Board',cmpesc:'Cwm Taf Morgannwg University Health Board',cmplnk:'/Cwm-Taf-Morgannwg-University-Health-Board-jobs-in-Swansea,-Swansea',loc:'Bridgend CF31',country:'GB',zip:'CF31 3SH',city:'Bridgend',title:'Senior Business and Systems Analyst',locid:'a0ce5fcd979cfa5f',rd:'hpDeP50szArAy57edipA-vBisNKGXsbYFLyNL9vMXr8hkIp7q8u2lhZ-VC5h6uDA'};\\n\\n\",\n",
       " \"9]= {jk:'1cb84703adf1e1d2',efccid: '999b5ac4c0bb08aa',srcid:'1a9f4d020fa9c076',cmpid:'3c04c04265aa3d1f',num:'9',srcname:'Indeed',cmp:'Business in Focus',cmpesc:'Business in Focus',cmplnk:'/Business-in-Focus-jobs-in-Swansea,-Swansea',loc:'Bridgend',country:'GB',zip:'',city:'Bridgend',title:'Business Analyst',locid:'a0ce5fcd979cfa5f',rd:'noAd-xazZKSJ21RFyUb4oDrSnvM8gLndovBoGnnNpvrT7vtGycjq1Vz4FjlvSeYd'};\\n\\n\",\n",
       " \"10]= {jk:'f31202e4a9674ab5',efccid: 'e7a2175a1fdcc9d4',srcid:'9828d18ed3b7c687',cmpid:'4501cc7b852fc3cc',num:'10',srcname:'Indeed',cmp:'The Royal Mint',cmpesc:'The Royal Mint',cmplnk:'/The-Royal-Mint-jobs-in-Swansea,-Swansea',loc:'Llantrisant CF72',country:'GB',zip:'CF72 8YT',city:'Llantrisant',title:'E-Commerce Performance Analyst',locid:'d4f4a193263396da',rd:'7QYyVeYoxkhWGKwlp23oXVzzD-NYD_-8LYAHMSG5XeD45TseyVaXnyHNIjU05vL8'};\\n\\n\",\n",
       " \"11]= {jk:'23964741e0d2512a',efccid: 'fe9549e254023a94',srcid:'fa0fee601c28ee39',cmpid:'a0bc00bbf2d1ab77',num:'11',srcname:'Indeed',cmp:'Alexander Mann Solution\\\\'s',cmpesc:'Alexander Mann Solution&#039;s',cmplnk:'/jobs?q=Alexander+Mann+Solution%27s&l=Swansea,+Swansea',loc:'Cowbridge',country:'GB',zip:'',city:'Cowbridge',title:'Graduate Opportunity, Junior Data Analyst - Big Four Accounting Firm',locid:'dc2be5cbae9eccb2',rd:'CJAMrbAL5IQ0FPJa4xuy2rY8e3JDrWHDsG8YBhmXswNxFZA_Ld_0r7D0ylw87oe0'};\\n\"]"
      ]
     },
     "execution_count": 51,
     "metadata": {},
     "output_type": "execute_result"
    }
   ],
   "source": [
    "hh"
   ]
  },
  {
   "cell_type": "code",
   "execution_count": null,
   "id": "000c9f78",
   "metadata": {},
   "outputs": [],
   "source": []
  },
  {
   "cell_type": "code",
   "execution_count": 62,
   "id": "5752cf3a",
   "metadata": {},
   "outputs": [
    {
     "name": "stdout",
     "output_type": "stream",
     "text": [
      "0 <div class=\"mosaic-zone\" id=\"mosaic-zone-aboveJobCards\"><div class=\"mosaic mosaic-provider-serpreportjob\" id=\"mosaic-provider-serpreportjob\"><div class=\"mosaic-reportcontent-wrapper\"><div class=\"mosaic-reportcontent-content\"></div></div></div></div> \n",
      "--------------------\n",
      "1 <div class=\"mosaic-zone\" id=\"mosaic-zone-jobcards\"><div class=\"mosaic mosaic-provider-jobcards\" id=\"mosaic-provider-jobcards\"><a class=\"tapItem fs-unmask result job_3c1e48cd6c83ad24 resultWithShelf sponTapItem tapItem-noPadding desktop\" data-hide-spinner=\"true\" data-hiring-event=\"false\" data-jk=\"3c1e48cd6c83ad24\" data-mobtk=\"1fcbs9vrttvac800\" href=\"/rc/clk?jk=3c1e48cd6c83ad24&amp;fccid=e592d92a621381e7&amp;vjs=3\" id=\"job_3c1e48cd6c83ad24\" rel=\"nofollow\" target=\"_blank\"><div class=\"slider_container\"><div class=\"slider_list\"><div class=\"slider_item\"><div class=\"job_seen_beacon\"><table cellpadding=\"0\" cellspacing=\"0\" class=\"jobCard_mainContent\" role=\"presentation\"><tbody><tr><td class=\"resultContent\"><div class=\"heading4 color-text-primary singleLineTitle tapItem-gutter\"><h2 class=\"jobTitle jobTitle-color-purple\"><span title=\"Data Analyst\">Data Analyst</span></h2></div><div class=\"heading6 company_location tapItem-gutter\"><pre><span class=\"companyName\"><a class=\"turnstileLink companyOverviewLink\" data-tn-element=\"companyName\" href=\"/cmp/Swansea-Council\" rel=\"noopener\" target=\"_blank\">Swansea Council</a></span><span class=\"ratingsDisplay withRatingLink\"><a class=\"ratingLink\" data-tn-variant=\"cmplinktst2\" href=\"/cmp/Swansea-Council/reviews\" rel=\"noopener\" target=\"_blank\" title=\"Swansea Council reviews\"><span aria-label=\"3.1 of stars rating\" class=\"ratingNumber\" role=\"img\"><span aria-hidden=\"true\">3.1</span><svg aria-hidden=\"true\" class=\"starIcon\" fill=\"none\" height=\"12\" viewbox=\"0 0 16 16\" width=\"12\" xmlns=\"http://www.w3.org/2000/svg\"><path d=\"M8 12.8709L12.4542 15.5593C12.7807 15.7563 13.1835 15.4636 13.0968 15.0922L11.9148 10.0254L15.8505 6.61581C16.1388 6.36608 15.9847 5.89257 15.6047 5.86033L10.423 5.42072L8.39696 0.640342C8.24839 0.289808 7.7516 0.289808 7.60303 0.640341L5.57696 5.42072L0.395297 5.86033C0.015274 5.89257 -0.13882 6.36608 0.149443 6.61581L4.0852 10.0254L2.90318 15.0922C2.81653 15.4636 3.21932 15.7563 3.54584 15.5593L8 12.8709Z\" fill=\"#767676\"></path></svg></span></a></span><div class=\"companyLocation\">Swansea</div></pre></div><div class=\"heading6 tapItem-gutter metadataContainer\"><div class=\"metadata salary-snippet-container\"><span class=\"salary-snippet\">£29,577 - £32,910 a year</span></div></div><div class=\"heading6 error-text tapItem-gutter\"></div></td></tr></tbody></table><table class=\"jobCardShelfContainer\" role=\"presentation\"><tbody><tr class=\"jobCardShelf\"></tr><tr class=\"underShelfFooter\"><td><div class=\"heading6 tapItem-gutter result-footer\"><div class=\"job-snippet\"><ul style=\"list-style-type:circle;margin-top: 0px;margin-bottom: 0px;padding-left:20px;\">\n",
      "<li style=\"margin-bottom:0px;\">Producing wide range of written material, e.g. reports, <b>data</b> analysis etc.</li>\n",
      "<li>You will be someone who has a keen eye for detail and ensure all <b>data</b> is correct and…</li>\n",
      "</ul></div><span class=\"date\">9 days ago</span><span class=\"result-link-bar-separator\">·</span><button aria-expanded=\"false\" class=\"sl resultLink more_links_button\" type=\"button\">More...</button></div><div class=\"tab-container\"><div class=\"more-links-container result-tab\" role=\"presentation\"><div class=\"more_links\"><button class=\"close-button\" title=\"Close\" type=\"button\"></button><ul><li><span class=\"mat\">View all <a href=\"/Swansea-Council-jobs\">Swansea Council jobs</a> - <a href=\"/jobs-in-Swansea\">Swansea jobs</a></span></li><li><span class=\"mat\">Salary Search: <a href=\"/career/data-analyst/salaries/Swansea?campaignid=serp-more&amp;fromjk=3c1e48cd6c83ad24&amp;from=serp-more\">Data Analyst salaries in Swansea</a></span></li><li><span class=\"mat\">See popular <a href=\"/cmp/Swansea-Council/faq\">questions &amp; answers about Swansea Council</a></span></li></ul></div></div></div></td></tr></tbody></table><div aria-live=\"polite\"></div></div></div><div class=\"slider_sub_item\"></div></div></div><div class=\"kebabMenu\"><button aria-expanded=\"false\" aria-haspopup=\"true\" aria-label=\"Job actions\" class=\"kebabMenu-button\"><svg fill=\"none\" height=\"24\" viewbox=\"0 0 24 24\" width=\"24\" xmlns=\"http://www.w3.org/2000/svg\"><path d=\"M12 7C13.1 7 14 6.1 14 5C14 3.9 13.1 3 12 3C10.9 3 10 3.9 10 5C10 6.1 10.9 7 12 7ZM12 10C10.9 10 10 10.9 10 12C10 13.1 10.9 14 12 14C13.1 14 14 13.1 14 12C14 10.9 13.1 10 12 10ZM12 17C10.9 17 10 17.9 10 19C10 20.1 10.9 21 12 21C13.1 21 14 20.1 14 19C14 17.9 13.1 17 12 17Z\" fill=\"#2d2d2d\"></path></svg></button></div></a><span aria-live=\"polite\" class=\"visually-hidden\"></span><a class=\"tapItem fs-unmask result job_0600657fb0dd9aad resultWithShelf sponTapItem tapItem-noPadding desktop\" data-hide-spinner=\"true\" data-hiring-event=\"false\" data-jk=\"0600657fb0dd9aad\" data-mobtk=\"1fcbs9vrttvac800\" href=\"/company/Academy-for-Project-Managment-Ltd/jobs/Data-Analyst-Assessor-0600657fb0dd9aad?fccid=e3feddb345dad004&amp;vjs=3\" id=\"job_0600657fb0dd9aad\" rel=\"nofollow\" target=\"_blank\"><div class=\"slider_container\"><div class=\"slider_list\"><div class=\"slider_item\"><div class=\"job_seen_beacon\"><table cellpadding=\"0\" cellspacing=\"0\" class=\"jobCard_mainContent\" role=\"presentation\"><tbody><tr><td class=\"resultContent\"><div class=\"heading4 color-text-primary singleLineTitle tapItem-gutter\"><h2 class=\"jobTitle jobTitle-color-purple jobTitle-newJob\"><div class=\"new topLeft holisticNewBlue desktop\"><span class=\"label\">new</span></div><span title=\"Data Analyst Assessor (Freelance)\">Data Analyst Assessor (Freelance)</span></h2></div><div class=\"heading6 company_location tapItem-gutter\"><pre><span class=\"companyName\">Academy for Project Managment Ltd</span><div class=\"companyLocation\">Neath<!-- --> <!-- -->SA11 1EF<span class=\"remote-bullet\">•</span><span>Remote</span></div></pre></div><div class=\"heading6 tapItem-gutter metadataContainer\"><div class=\"metadata salary-snippet-container\"><span class=\"salary-snippet\">£50 - £100 an hour</span></div></div><div class=\"heading6 error-text tapItem-gutter\"></div></td></tr></tbody></table><table class=\"jobCardShelfContainer\" role=\"presentation\"><tbody><tr class=\"jobCardShelf\"><td class=\"shelfItem indeedApply\"><span class=\"iaIcon\"></span><span class=\"ialbl iaTextBlack\">Easily apply to this job</span></td></tr><tr class=\"underShelfFooter\"><td><div class=\"heading6 tapItem-gutter result-footer\"><div class=\"job-snippet\"><ul style=\"list-style-type:circle;margin-top: 0px;margin-bottom: 0px;padding-left:20px;\">\n",
      "<li style=\"margin-bottom:0px;\">The individual will need to be able to assess apprentices against the apprenticeship standard for <b>data</b> analyst.</li>\n",
      "<li>Job Types: Full-time, Part-time, Contract.</li>\n",
      "</ul></div><span class=\"date\">6 days ago</span><span class=\"result-link-bar-separator\">·</span><button aria-expanded=\"false\" class=\"sl resultLink more_links_button\" type=\"button\">More...</button></div><div class=\"tab-container\"><div class=\"more-links-container result-tab\" role=\"presentation\"><div class=\"more_links\"><button class=\"close-button\" title=\"Close\" type=\"button\"></button><ul><li><span class=\"mat\">View all <a href=\"/Academy-For-Project-Managment-Ltd-jobs\">Academy for Project Managment Ltd jobs</a> - <a href=\"/jobs-in-Neath\">Neath jobs</a></span></li><li><span class=\"mat\">Salary Search: <a href=\"/career/data-analyst/salaries/Neath-SA11?campaignid=serp-more&amp;fromjk=0600657fb0dd9aad&amp;from=serp-more\">Data Analyst Assessor (Freelance) salaries in Neath</a></span></li></ul></div></div></div></td></tr></tbody></table><div aria-live=\"polite\"></div></div></div><div class=\"slider_sub_item\"></div></div></div><div class=\"kebabMenu\"><button aria-expanded=\"false\" aria-haspopup=\"true\" aria-label=\"Job actions\" class=\"kebabMenu-button\"><svg fill=\"none\" height=\"24\" viewbox=\"0 0 24 24\" width=\"24\" xmlns=\"http://www.w3.org/2000/svg\"><path d=\"M12 7C13.1 7 14 6.1 14 5C14 3.9 13.1 3 12 3C10.9 3 10 3.9 10 5C10 6.1 10.9 7 12 7ZM12 10C10.9 10 10 10.9 10 12C10 13.1 10.9 14 12 14C13.1 14 14 13.1 14 12C14 10.9 13.1 10 12 10ZM12 17C10.9 17 10 17.9 10 19C10 20.1 10.9 21 12 21C13.1 21 14 20.1 14 19C14 17.9 13.1 17 12 17Z\" fill=\"#2d2d2d\"></path></svg></button></div></a><span aria-live=\"polite\" class=\"visually-hidden\"></span><a class=\"tapItem fs-unmask result job_89b7a70cf853f8ae sponsoredJob resultWithShelf sponTapItem tapItem-noPadding desktop\" data-ci=\"373208672\" data-empn=\"9209281784346715\" data-hide-spinner=\"true\" data-hiring-event=\"false\" data-jk=\"89b7a70cf853f8ae\" data-mobtk=\"1fcbs9vrttvac800\" href=\"/pagead/clk?mo=r&amp;ad=-6NYlbfkN0Du9c6FKUmp4t86OVIt588Q5pvpuK2pmsPvN1a3RPW2zpNX5ajPvSsVXM2I3oaqIDiNWEhl5ZTfz7sD0OCH1smXcwuWSuCDvst5wtFyoRRD5JwmA8w0jFmBjPAtMAi9uX92eeg3qeWhnboI0TuSzuA2kqbUrqS8bhFKbppSxKWJeqPsub3hMP6K0ZETsR4xtjUWK2YgUOAVugyd6ZvGYYmLp3NHoKxOjyfQwvfgrEVGkafP_42t9L2WfORAXENU47JD4X08jqWU9tmC10jru8PZWmCPRJ2O63TRYQOzJXW8v25ea50KE0LBTyjXxt9vTL6-PhjuAIdtMAWAUfYZRUr-1vwcaZzwFGM-J7z5t8DGcqm_JJm9hx5UQDHsAM8GGDLavNyyzFzPEJQRy6-LvDyiwifc6aie4XW3RZQTauFsGJECb4xzhlA6luIuC4s_brXizfk16rYm3R0OKBHnoCkA7IAsj-JCHYXLYk6OQ9Ji3TLfhE04qGKvWbXuIqJVeSR56Sxd6F4gXQNS2Cwu7rPTFhVE77z6HfHvJAjE9reiBmyufwWvcMy-7yd87YAATRmeFYyD6JPP0w==&amp;p=2&amp;fvj=0&amp;vjs=3\" id=\"sj_89b7a70cf853f8ae\" rel=\"nofollow\" target=\"_blank\"><div class=\"slider_container\"><div class=\"slider_list\"><div class=\"slider_item\"><div class=\"job_seen_beacon\"><table cellpadding=\"0\" cellspacing=\"0\" class=\"jobCard_mainContent\" role=\"presentation\"><tbody><tr><td class=\"resultContent\"><div class=\"heading4 color-text-primary singleLineTitle tapItem-gutter\"><h2 class=\"jobTitle jobTitle-color-purple jobTitle-newJob\"><div class=\"new topLeft holisticNewBlue desktop\"><span class=\"label\">new</span></div><span title=\"Operational Risk Analyst\">Operational Risk Analyst</span></h2></div><div class=\"heading6 company_location tapItem-gutter\"><pre><span class=\"companyName\"><a class=\"turnstileLink companyOverviewLink\" data-tn-element=\"companyName\" href=\"/cmp/Shawbrook-Bank\" rel=\"noopener\" target=\"_blank\">Shawbrook Bank</a></span><span class=\"ratingsDisplay withRatingLink\"><a class=\"ratingLink\" data-tn-variant=\"cmplinktst2\" href=\"/cmp/Shawbrook-Bank/reviews\" rel=\"noopener\" target=\"_blank\" title=\"Shawbrook Bank reviews\"><span aria-label=\"3.0 of stars rating\" class=\"ratingNumber\" role=\"img\"><span aria-hidden=\"true\">3.0</span><svg aria-hidden=\"true\" class=\"starIcon\" fill=\"none\" height=\"12\" viewbox=\"0 0 16 16\" width=\"12\" xmlns=\"http://www.w3.org/2000/svg\"><path d=\"M8 12.8709L12.4542 15.5593C12.7807 15.7563 13.1835 15.4636 13.0968 15.0922L11.9148 10.0254L15.8505 6.61581C16.1388 6.36608 15.9847 5.89257 15.6047 5.86033L10.423 5.42072L8.39696 0.640342C8.24839 0.289808 7.7516 0.289808 7.60303 0.640341L5.57696 5.42072L0.395297 5.86033C0.015274 5.89257 -0.13882 6.36608 0.149443 6.61581L4.0852 10.0254L2.90318 15.0922C2.81653 15.4636 3.21932 15.7563 3.54584 15.5593L8 12.8709Z\" fill=\"#767676\"></path></svg></span></a></span><div class=\"companyLocation\">United Kingdom</div></pre></div><div class=\"heading6 error-text tapItem-gutter\"></div></td></tr></tbody></table><table class=\"jobCardShelfContainer\" role=\"presentation\"><tbody><tr class=\"jobCardShelf\"></tr><tr class=\"underShelfFooter\"><td><div class=\"heading6 tapItem-gutter result-footer\"><div class=\"job-snippet\"><ul style=\"list-style-type:circle;margin-top: 0px;margin-bottom: 0px;padding-left:20px;\">\n",
      "<li style=\"margin-bottom:0px;\">Maintain risk management systems and ensure <b>data</b> is always updated and accurate.</li>\n",
      "<li>Support the embedding, operation and maintenance of the 1st line Risk…</li>\n",
      "</ul></div><span class=\"date\">2 days ago</span></div></td></tr></tbody></table><div aria-live=\"polite\"></div></div></div><div class=\"slider_sub_item\"></div></div></div><div class=\"kebabMenu\"><button aria-expanded=\"false\" aria-haspopup=\"true\" aria-label=\"Job actions\" class=\"kebabMenu-button\"><svg fill=\"none\" height=\"24\" viewbox=\"0 0 24 24\" width=\"24\" xmlns=\"http://www.w3.org/2000/svg\"><path d=\"M12 7C13.1 7 14 6.1 14 5C14 3.9 13.1 3 12 3C10.9 3 10 3.9 10 5C10 6.1 10.9 7 12 7ZM12 10C10.9 10 10 10.9 10 12C10 13.1 10.9 14 12 14C13.1 14 14 13.1 14 12C14 10.9 13.1 10 12 10ZM12 17C10.9 17 10 17.9 10 19C10 20.1 10.9 21 12 21C13.1 21 14 20.1 14 19C14 17.9 13.1 17 12 17Z\" fill=\"#2d2d2d\"></path></svg></button></div></a><span aria-live=\"polite\" class=\"visually-hidden\"></span><a class=\"tapItem fs-unmask result job_9c70673b8382387a resultWithShelf sponTapItem tapItem-noPadding desktop\" data-hide-spinner=\"true\" data-hiring-event=\"false\" data-jk=\"9c70673b8382387a\" data-mobtk=\"1fcbs9vrttvac800\" href=\"/rc/clk?jk=9c70673b8382387a&amp;fccid=59237124d676ae4d&amp;vjs=3\" id=\"job_9c70673b8382387a\" rel=\"nofollow\" target=\"_blank\"><div class=\"slider_container\"><div class=\"slider_list\"><div class=\"slider_item\"><div class=\"job_seen_beacon\"><table cellpadding=\"0\" cellspacing=\"0\" class=\"jobCard_mainContent\" role=\"presentation\"><tbody><tr><td class=\"resultContent\"><div class=\"heading4 color-text-primary singleLineTitle tapItem-gutter\"><h2 class=\"jobTitle jobTitle-color-purple jobTitle-newJob\"><div class=\"new topLeft holisticNewBlue desktop\"><span class=\"label\">new</span></div><span title=\"Grants Analyst\">Grants Analyst</span></h2></div><div class=\"heading6 company_location tapItem-gutter\"><pre><span class=\"companyName\"><a class=\"turnstileLink companyOverviewLink\" data-tn-element=\"companyName\" href=\"/cmp/Pra-Health-Sciences\" rel=\"noopener\" target=\"_blank\">PRA Health Sciences</a></span><span class=\"ratingsDisplay withRatingLink\"><a class=\"ratingLink\" data-tn-variant=\"cmplinktst2\" href=\"/cmp/Pra-Health-Sciences/reviews\" rel=\"noopener\" target=\"_blank\" title=\"PRA Health Sciences reviews\"><span aria-label=\"3.5 of stars rating\" class=\"ratingNumber\" role=\"img\"><span aria-hidden=\"true\">3.5</span><svg aria-hidden=\"true\" class=\"starIcon\" fill=\"none\" height=\"12\" viewbox=\"0 0 16 16\" width=\"12\" xmlns=\"http://www.w3.org/2000/svg\"><path d=\"M8 12.8709L12.4542 15.5593C12.7807 15.7563 13.1835 15.4636 13.0968 15.0922L11.9148 10.0254L15.8505 6.61581C16.1388 6.36608 15.9847 5.89257 15.6047 5.86033L10.423 5.42072L8.39696 0.640342C8.24839 0.289808 7.7516 0.289808 7.60303 0.640341L5.57696 5.42072L0.395297 5.86033C0.015274 5.89257 -0.13882 6.36608 0.149443 6.61581L4.0852 10.0254L2.90318 15.0922C2.81653 15.4636 3.21932 15.7563 3.54584 15.5593L8 12.8709Z\" fill=\"#767676\"></path></svg></span></a></span><div class=\"companyLocation\">Swansea</div></pre></div><div class=\"heading6 error-text tapItem-gutter\"></div></td></tr></tbody></table><table class=\"jobCardShelfContainer\" role=\"presentation\"><tbody><tr class=\"jobCardShelf\"></tr><tr class=\"underShelfFooter\"><td><div class=\"heading6 tapItem-gutter result-footer\"><div class=\"job-snippet\"><ul style=\"list-style-type:circle;margin-top: 0px;margin-bottom: 0px;padding-left:20px;\">\n",
      "<li>Partner with other members of the Investigator Grants Management team to test assigned reports preparing Investigator payment reports, monitoring Investigator…</li>\n",
      "</ul></div><span class=\"date\">Today</span><span class=\"result-link-bar-separator\">·</span><button aria-expanded=\"false\" class=\"sl resultLink more_links_button\" type=\"button\">More...</button></div><div class=\"tab-container\"><div class=\"more-links-container result-tab\" role=\"presentation\"><div class=\"more_links\"><button class=\"close-button\" title=\"Close\" type=\"button\"></button><ul><li><span class=\"mat\">View all <a href=\"/Pra-Health-Sciences-jobs\">PRA Health Sciences jobs</a> - <a href=\"/jobs-in-Swansea\">Swansea jobs</a></span></li><li><span class=\"mat\">Salary Search: <a href=\"/career/analyst/salaries/Swansea?campaignid=serp-more&amp;fromjk=9c70673b8382387a&amp;from=serp-more\">Grants Analyst salaries in Swansea</a></span></li><li><span class=\"mat\">See popular <a href=\"/cmp/Pra-Health-Sciences/faq\">questions &amp; answers about PRA Health Sciences</a></span></li></ul></div></div></div></td></tr></tbody></table><div aria-live=\"polite\"></div></div></div><div class=\"slider_sub_item\"></div></div></div><div class=\"kebabMenu\"><button aria-expanded=\"false\" aria-haspopup=\"true\" aria-label=\"Job actions\" class=\"kebabMenu-button\"><svg fill=\"none\" height=\"24\" viewbox=\"0 0 24 24\" width=\"24\" xmlns=\"http://www.w3.org/2000/svg\"><path d=\"M12 7C13.1 7 14 6.1 14 5C14 3.9 13.1 3 12 3C10.9 3 10 3.9 10 5C10 6.1 10.9 7 12 7ZM12 10C10.9 10 10 10.9 10 12C10 13.1 10.9 14 12 14C13.1 14 14 13.1 14 12C14 10.9 13.1 10 12 10ZM12 17C10.9 17 10 17.9 10 19C10 20.1 10.9 21 12 21C13.1 21 14 20.1 14 19C14 17.9 13.1 17 12 17Z\" fill=\"#2d2d2d\"></path></svg></button></div></a><span aria-live=\"polite\" class=\"visually-hidden\"></span><a class=\"tapItem fs-unmask result job_09753c16235c0294 resultWithShelf sponTapItem tapItem-noPadding desktop\" data-hide-spinner=\"true\" data-hiring-event=\"false\" data-jk=\"09753c16235c0294\" data-mobtk=\"1fcbs9vrttvac800\" href=\"/rc/clk?jk=09753c16235c0294&amp;fccid=2db9647e8bdb2da3&amp;vjs=3\" id=\"job_09753c16235c0294\" rel=\"nofollow\" target=\"_blank\"><div class=\"slider_container\"><div class=\"slider_list\"><div class=\"slider_item\"><div class=\"job_seen_beacon\"><table cellpadding=\"0\" cellspacing=\"0\" class=\"jobCard_mainContent\" role=\"presentation\"><tbody><tr><td class=\"resultContent\"><div class=\"heading4 color-text-primary singleLineTitle tapItem-gutter\"><h2 class=\"jobTitle jobTitle-color-purple jobTitle-newJob\"><div class=\"new topLeft holisticNewBlue desktop\"><span class=\"label\">new</span></div><span title=\"Associate Business Analyst\">Associate Business Analyst</span></h2></div><div class=\"heading6 company_location tapItem-gutter\"><pre><span class=\"companyName\"><a class=\"turnstileLink companyOverviewLink\" data-tn-element=\"companyName\" href=\"/cmp/UK-Government---Department-For-Transport\" rel=\"noopener\" target=\"_blank\">Driver and Vehicle Licensing Agency</a></span><span class=\"ratingsDisplay withRatingLink\"><a class=\"ratingLink\" data-tn-variant=\"cmplinktst2\" href=\"/cmp/UK-Government---Department-For-Transport/reviews\" rel=\"noopener\" target=\"_blank\" title=\"Driver and Vehicle Licensing Agency reviews\"><span aria-label=\"3.5 of stars rating\" class=\"ratingNumber\" role=\"img\"><span aria-hidden=\"true\">3.5</span><svg aria-hidden=\"true\" class=\"starIcon\" fill=\"none\" height=\"12\" viewbox=\"0 0 16 16\" width=\"12\" xmlns=\"http://www.w3.org/2000/svg\"><path d=\"M8 12.8709L12.4542 15.5593C12.7807 15.7563 13.1835 15.4636 13.0968 15.0922L11.9148 10.0254L15.8505 6.61581C16.1388 6.36608 15.9847 5.89257 15.6047 5.86033L10.423 5.42072L8.39696 0.640342C8.24839 0.289808 7.7516 0.289808 7.60303 0.640341L5.57696 5.42072L0.395297 5.86033C0.015274 5.89257 -0.13882 6.36608 0.149443 6.61581L4.0852 10.0254L2.90318 15.0922C2.81653 15.4636 3.21932 15.7563 3.54584 15.5593L8 12.8709Z\" fill=\"#767676\"></path></svg></span></a></span><div class=\"companyLocation\">Swansea</div></pre></div><div class=\"heading6 tapItem-gutter metadataContainer\"><div class=\"metadata salary-snippet-container\"><span class=\"salary-snippet\">£30,734 - £33,345 a year</span></div></div><div class=\"heading6 error-text tapItem-gutter\"></div></td></tr></tbody></table><table class=\"jobCardShelfContainer\" role=\"presentation\"><tbody><tr class=\"jobCardShelf\"></tr><tr class=\"underShelfFooter\"><td><div class=\"heading6 tapItem-gutter result-footer\"><div class=\"job-snippet\"><ul style=\"list-style-type:circle;margin-top: 0px;margin-bottom: 0px;padding-left:20px;\">\n",
      "<li style=\"margin-bottom:0px;\">Analysing <b>data</b> to recommend service improvements and make informed decisions.</li>\n",
      "<li>A history of supporting and facilitating the development and continuous…</li>\n",
      "</ul></div><span class=\"date\">6 days ago</span><span class=\"result-link-bar-separator\">·</span><button aria-expanded=\"false\" class=\"sl resultLink more_links_button\" type=\"button\">More...</button></div><div class=\"tab-container\"><div class=\"more-links-container result-tab\" role=\"presentation\"><div class=\"more_links\"><button class=\"close-button\" title=\"Close\" type=\"button\"></button><ul><li><span class=\"mat\">View all <a href=\"/Driver-and-Vehicle-Licensing-Agency-jobs\">Driver and Vehicle Licensing Agency jobs</a> - <a href=\"/jobs-in-Swansea\">Swansea jobs</a></span></li><li><span class=\"mat\">Salary Search: <a href=\"/career/business-analyst/salaries/Swansea?campaignid=serp-more&amp;fromjk=09753c16235c0294&amp;from=serp-more\">Associate Business Analyst salaries in Swansea</a></span></li><li><span class=\"mat\">See popular <a href=\"/cmp/UK-Government---Department-For-Transport/faq\">questions &amp; answers about Driver and Vehicle Licensing Agency</a></span></li></ul></div></div></div></td></tr></tbody></table><div aria-live=\"polite\"></div></div></div><div class=\"slider_sub_item\"></div></div></div><div class=\"kebabMenu\"><button aria-expanded=\"false\" aria-haspopup=\"true\" aria-label=\"Job actions\" class=\"kebabMenu-button\"><svg fill=\"none\" height=\"24\" viewbox=\"0 0 24 24\" width=\"24\" xmlns=\"http://www.w3.org/2000/svg\"><path d=\"M12 7C13.1 7 14 6.1 14 5C14 3.9 13.1 3 12 3C10.9 3 10 3.9 10 5C10 6.1 10.9 7 12 7ZM12 10C10.9 10 10 10.9 10 12C10 13.1 10.9 14 12 14C13.1 14 14 13.1 14 12C14 10.9 13.1 10 12 10ZM12 17C10.9 17 10 17.9 10 19C10 20.1 10.9 21 12 21C13.1 21 14 20.1 14 19C14 17.9 13.1 17 12 17Z\" fill=\"#2d2d2d\"></path></svg></button></div></a><span aria-live=\"polite\" class=\"visually-hidden\"></span><div class=\"mosaic-zone\" id=\"mosaic-afterFifthJobResult\"></div><a class=\"tapItem fs-unmask result job_9d4d3a5a07f314a8 resultWithShelf sponTapItem tapItem-noPadding desktop\" data-hide-spinner=\"true\" data-hiring-event=\"false\" data-jk=\"9d4d3a5a07f314a8\" data-mobtk=\"1fcbs9vrttvac800\" href=\"/rc/clk?jk=9d4d3a5a07f314a8&amp;fccid=e5ea1ff710ce39ca&amp;vjs=3\" id=\"job_9d4d3a5a07f314a8\" rel=\"nofollow\" target=\"_blank\"><div class=\"slider_container\"><div class=\"slider_list\"><div class=\"slider_item\"><div class=\"job_seen_beacon\"><table cellpadding=\"0\" cellspacing=\"0\" class=\"jobCard_mainContent\" role=\"presentation\"><tbody><tr><td class=\"resultContent\"><div class=\"heading4 color-text-primary singleLineTitle tapItem-gutter\"><h2 class=\"jobTitle jobTitle-color-purple\"><span title=\"Data Analyst\">Data Analyst</span></h2></div><div class=\"heading6 company_location tapItem-gutter\"><pre><span class=\"companyName\"><a class=\"turnstileLink companyOverviewLink\" data-tn-element=\"companyName\" href=\"/cmp/Page-Personnel\" rel=\"noopener\" target=\"_blank\">Page Personnel - UK</a></span><span class=\"ratingsDisplay withRatingLink\"><a class=\"ratingLink\" data-tn-variant=\"cmplinktst2\" href=\"/cmp/Page-Personnel/reviews\" rel=\"noopener\" target=\"_blank\" title=\"Page Personnel - UK reviews\"><span aria-label=\"2.6 of stars rating\" class=\"ratingNumber\" role=\"img\"><span aria-hidden=\"true\">2.6</span><svg aria-hidden=\"true\" class=\"starIcon\" fill=\"none\" height=\"12\" viewbox=\"0 0 16 16\" width=\"12\" xmlns=\"http://www.w3.org/2000/svg\"><path d=\"M8 12.8709L12.4542 15.5593C12.7807 15.7563 13.1835 15.4636 13.0968 15.0922L11.9148 10.0254L15.8505 6.61581C16.1388 6.36608 15.9847 5.89257 15.6047 5.86033L10.423 5.42072L8.39696 0.640342C8.24839 0.289808 7.7516 0.289808 7.60303 0.640341L5.57696 5.42072L0.395297 5.86033C0.015274 5.89257 -0.13882 6.36608 0.149443 6.61581L4.0852 10.0254L2.90318 15.0922C2.81653 15.4636 3.21932 15.7563 3.54584 15.5593L8 12.8709Z\" fill=\"#767676\"></path></svg></span></a></span><div class=\"companyLocation\">Swansea</div></pre></div><div class=\"heading6 tapItem-gutter metadataContainer\"><div class=\"metadata salary-snippet-container\"><span class=\"salary-snippet\">£23,000 - £24,000 a year</span></div></div><div class=\"heading6 error-text tapItem-gutter\"></div></td></tr></tbody></table><table class=\"jobCardShelfContainer\" role=\"presentation\"><tbody><tr class=\"jobCardShelf\"></tr><tr class=\"underShelfFooter\"><td><div class=\"heading6 tapItem-gutter result-footer\"><div class=\"job-snippet\"><ul style=\"list-style-type:circle;margin-top: 0px;margin-bottom: 0px;padding-left:20px;\">\n",
      "<li>Page Group are excited to be partnered with a fast growth retail organisation to recruit an <b>Data</b> Operations <b>Analyst</b> / <b>Data</b> <b>analyst</b> on a permanent, full time…</li>\n",
      "</ul></div><span class=\"date\">30+ days ago</span><span class=\"result-link-bar-separator\">·</span><button aria-expanded=\"false\" class=\"sl resultLink more_links_button\" type=\"button\">More...</button></div><div class=\"tab-container\"><div class=\"more-links-container result-tab\" role=\"presentation\"><div class=\"more_links\"><button class=\"close-button\" title=\"Close\" type=\"button\"></button><ul><li><span class=\"mat\">View all <a href=\"/jobs?q=Page+Personnel+-+UK\">Page Personnel - UK jobs</a> - <a href=\"/jobs-in-Swansea\">Swansea jobs</a></span></li><li><span class=\"mat\">Salary Search: <a href=\"/career/data-analyst/salaries/Swansea?campaignid=serp-more&amp;fromjk=9d4d3a5a07f314a8&amp;from=serp-more\">Data Analyst salaries in Swansea</a></span></li><li><span class=\"mat\">See popular <a href=\"/cmp/Page-Personnel/faq\">questions &amp; answers about Page Personnel - UK</a></span></li></ul></div></div></div></td></tr></tbody></table><div aria-live=\"polite\"></div></div></div><div class=\"slider_sub_item\"></div></div></div><div class=\"kebabMenu\"><button aria-expanded=\"false\" aria-haspopup=\"true\" aria-label=\"Job actions\" class=\"kebabMenu-button\"><svg fill=\"none\" height=\"24\" viewbox=\"0 0 24 24\" width=\"24\" xmlns=\"http://www.w3.org/2000/svg\"><path d=\"M12 7C13.1 7 14 6.1 14 5C14 3.9 13.1 3 12 3C10.9 3 10 3.9 10 5C10 6.1 10.9 7 12 7ZM12 10C10.9 10 10 10.9 10 12C10 13.1 10.9 14 12 14C13.1 14 14 13.1 14 12C14 10.9 13.1 10 12 10ZM12 17C10.9 17 10 17.9 10 19C10 20.1 10.9 21 12 21C13.1 21 14 20.1 14 19C14 17.9 13.1 17 12 17Z\" fill=\"#2d2d2d\"></path></svg></button></div></a><span aria-live=\"polite\" class=\"visually-hidden\"></span><a class=\"tapItem fs-unmask result job_3892e819e5907c9f resultWithShelf sponTapItem tapItem-noPadding desktop\" data-hide-spinner=\"true\" data-hiring-event=\"false\" data-jk=\"3892e819e5907c9f\" data-mobtk=\"1fcbs9vrttvac800\" href=\"/rc/clk?jk=3892e819e5907c9f&amp;fccid=2db9647e8bdb2da3&amp;vjs=3\" id=\"job_3892e819e5907c9f\" rel=\"nofollow\" target=\"_blank\"><div class=\"slider_container\"><div class=\"slider_list\"><div class=\"slider_item\"><div class=\"job_seen_beacon\"><table cellpadding=\"0\" cellspacing=\"0\" class=\"jobCard_mainContent\" role=\"presentation\"><tbody><tr><td class=\"resultContent\"><div class=\"heading4 color-text-primary singleLineTitle tapItem-gutter\"><h2 class=\"jobTitle jobTitle-color-purple jobTitle-newJob\"><div class=\"new topLeft holisticNewBlue desktop\"><span class=\"label\">new</span></div><span title=\"Senior Business Analyst\">Senior Business Analyst</span></h2></div><div class=\"heading6 company_location tapItem-gutter\"><pre><span class=\"companyName\"><a class=\"turnstileLink companyOverviewLink\" data-tn-element=\"companyName\" href=\"/cmp/UK-Government---Department-For-Transport\" rel=\"noopener\" target=\"_blank\">Driver and Vehicle Licensing Agency</a></span><span class=\"ratingsDisplay withRatingLink\"><a class=\"ratingLink\" data-tn-variant=\"cmplinktst2\" href=\"/cmp/UK-Government---Department-For-Transport/reviews\" rel=\"noopener\" target=\"_blank\" title=\"Driver and Vehicle Licensing Agency reviews\"><span aria-label=\"3.5 of stars rating\" class=\"ratingNumber\" role=\"img\"><span aria-hidden=\"true\">3.5</span><svg aria-hidden=\"true\" class=\"starIcon\" fill=\"none\" height=\"12\" viewbox=\"0 0 16 16\" width=\"12\" xmlns=\"http://www.w3.org/2000/svg\"><path d=\"M8 12.8709L12.4542 15.5593C12.7807 15.7563 13.1835 15.4636 13.0968 15.0922L11.9148 10.0254L15.8505 6.61581C16.1388 6.36608 15.9847 5.89257 15.6047 5.86033L10.423 5.42072L8.39696 0.640342C8.24839 0.289808 7.7516 0.289808 7.60303 0.640341L5.57696 5.42072L0.395297 5.86033C0.015274 5.89257 -0.13882 6.36608 0.149443 6.61581L4.0852 10.0254L2.90318 15.0922C2.81653 15.4636 3.21932 15.7563 3.54584 15.5593L8 12.8709Z\" fill=\"#767676\"></path></svg></span></a></span><div class=\"companyLocation\">Swansea</div></pre></div><div class=\"heading6 tapItem-gutter metadataContainer\"><div class=\"metadata salary-snippet-container\"><span class=\"salary-snippet\">£38,654 - £42,521 a year</span></div></div><div class=\"heading6 error-text tapItem-gutter\"></div></td></tr></tbody></table><table class=\"jobCardShelfContainer\" role=\"presentation\"><tbody><tr class=\"jobCardShelf\"></tr><tr class=\"underShelfFooter\"><td><div class=\"heading6 tapItem-gutter result-footer\"><div class=\"job-snippet\"><ul style=\"list-style-type:circle;margin-top: 0px;margin-bottom: 0px;padding-left:20px;\">\n",
      "<li>A history of supporting and facilitating the development and continuous improvement of products and services across a range of complex and challenging digital,…</li>\n",
      "</ul></div><span class=\"date\">6 days ago</span><span class=\"result-link-bar-separator\">·</span><button aria-expanded=\"false\" class=\"sl resultLink more_links_button\" type=\"button\">More...</button></div><div class=\"tab-container\"><div class=\"more-links-container result-tab\" role=\"presentation\"><div class=\"more_links\"><button class=\"close-button\" title=\"Close\" type=\"button\"></button><ul><li><span class=\"mat\">View all <a href=\"/Driver-and-Vehicle-Licensing-Agency-jobs\">Driver and Vehicle Licensing Agency jobs</a> - <a href=\"/jobs-in-Swansea\">Swansea jobs</a></span></li><li><span class=\"mat\">Salary Search: <a href=\"/career/senior-business-analyst/salaries/Swansea?campaignid=serp-more&amp;fromjk=3892e819e5907c9f&amp;from=serp-more\">Senior Business Analyst salaries in Swansea</a></span></li><li><span class=\"mat\">See popular <a href=\"/cmp/UK-Government---Department-For-Transport/faq\">questions &amp; answers about Driver and Vehicle Licensing Agency</a></span></li></ul></div></div></div></td></tr></tbody></table><div aria-live=\"polite\"></div></div></div><div class=\"slider_sub_item\"></div></div></div><div class=\"kebabMenu\"><button aria-expanded=\"false\" aria-haspopup=\"true\" aria-label=\"Job actions\" class=\"kebabMenu-button\"><svg fill=\"none\" height=\"24\" viewbox=\"0 0 24 24\" width=\"24\" xmlns=\"http://www.w3.org/2000/svg\"><path d=\"M12 7C13.1 7 14 6.1 14 5C14 3.9 13.1 3 12 3C10.9 3 10 3.9 10 5C10 6.1 10.9 7 12 7ZM12 10C10.9 10 10 10.9 10 12C10 13.1 10.9 14 12 14C13.1 14 14 13.1 14 12C14 10.9 13.1 10 12 10ZM12 17C10.9 17 10 17.9 10 19C10 20.1 10.9 21 12 21C13.1 21 14 20.1 14 19C14 17.9 13.1 17 12 17Z\" fill=\"#2d2d2d\"></path></svg></button></div></a><span aria-live=\"polite\" class=\"visually-hidden\"></span><a class=\"tapItem fs-unmask result job_041e77719dd926f3 resultWithShelf sponTapItem tapItem-noPadding desktop\" data-hide-spinner=\"true\" data-hiring-event=\"false\" data-jk=\"041e77719dd926f3\" data-mobtk=\"1fcbs9vrttvac800\" href=\"/rc/clk?jk=041e77719dd926f3&amp;fccid=2db9647e8bdb2da3&amp;vjs=3\" id=\"job_041e77719dd926f3\" rel=\"nofollow\" target=\"_blank\"><div class=\"slider_container\"><div class=\"slider_list\"><div class=\"slider_item\"><div class=\"job_seen_beacon\"><table cellpadding=\"0\" cellspacing=\"0\" class=\"jobCard_mainContent\" role=\"presentation\"><tbody><tr><td class=\"resultContent\"><div class=\"heading4 color-text-primary singleLineTitle tapItem-gutter\"><h2 class=\"jobTitle jobTitle-color-purple jobTitle-newJob\"><div class=\"new topLeft holisticNewBlue desktop\"><span class=\"label\">new</span></div><span title=\"Lead Business Analyst\">Lead Business Analyst</span></h2></div><div class=\"heading6 company_location tapItem-gutter\"><pre><span class=\"companyName\"><a class=\"turnstileLink companyOverviewLink\" data-tn-element=\"companyName\" href=\"/cmp/UK-Government---Department-For-Transport\" rel=\"noopener\" target=\"_blank\">Driver and Vehicle Licensing Agency</a></span><span class=\"ratingsDisplay withRatingLink\"><a class=\"ratingLink\" data-tn-variant=\"cmplinktst2\" href=\"/cmp/UK-Government---Department-For-Transport/reviews\" rel=\"noopener\" target=\"_blank\" title=\"Driver and Vehicle Licensing Agency reviews\"><span aria-label=\"3.5 of stars rating\" class=\"ratingNumber\" role=\"img\"><span aria-hidden=\"true\">3.5</span><svg aria-hidden=\"true\" class=\"starIcon\" fill=\"none\" height=\"12\" viewbox=\"0 0 16 16\" width=\"12\" xmlns=\"http://www.w3.org/2000/svg\"><path d=\"M8 12.8709L12.4542 15.5593C12.7807 15.7563 13.1835 15.4636 13.0968 15.0922L11.9148 10.0254L15.8505 6.61581C16.1388 6.36608 15.9847 5.89257 15.6047 5.86033L10.423 5.42072L8.39696 0.640342C8.24839 0.289808 7.7516 0.289808 7.60303 0.640341L5.57696 5.42072L0.395297 5.86033C0.015274 5.89257 -0.13882 6.36608 0.149443 6.61581L4.0852 10.0254L2.90318 15.0922C2.81653 15.4636 3.21932 15.7563 3.54584 15.5593L8 12.8709Z\" fill=\"#767676\"></path></svg></span></a></span><div class=\"companyLocation\">Swansea</div></pre></div><div class=\"heading6 tapItem-gutter metadataContainer\"><div class=\"metadata salary-snippet-container\"><span class=\"salary-snippet\">£48,774 - £55,322 a year</span></div></div><div class=\"heading6 error-text tapItem-gutter\"></div></td></tr></tbody></table><table class=\"jobCardShelfContainer\" role=\"presentation\"><tbody><tr class=\"jobCardShelf\"></tr><tr class=\"underShelfFooter\"><td><div class=\"heading6 tapItem-gutter result-footer\"><div class=\"job-snippet\"><ul style=\"list-style-type:circle;margin-top: 0px;margin-bottom: 0px;padding-left:20px;\">\n",
      "<li>You will lead, inspire and manage a team of business <b>analysts</b> who are at the heart of the delivery of the Agency’s digital services.</li>\n",
      "</ul></div><span class=\"date\">3 days ago</span><span class=\"result-link-bar-separator\">·</span><button aria-expanded=\"false\" class=\"sl resultLink more_links_button\" type=\"button\">More...</button></div><div class=\"tab-container\"><div class=\"more-links-container result-tab\" role=\"presentation\"><div class=\"more_links\"><button class=\"close-button\" title=\"Close\" type=\"button\"></button><ul><li><span class=\"mat\">View all <a href=\"/Driver-and-Vehicle-Licensing-Agency-jobs\">Driver and Vehicle Licensing Agency jobs</a> - <a href=\"/jobs-in-Swansea\">Swansea jobs</a></span></li><li><span class=\"mat\">Salary Search: <a href=\"/career/business-analyst/salaries/Swansea?campaignid=serp-more&amp;fromjk=041e77719dd926f3&amp;from=serp-more\">Lead Business Analyst salaries in Swansea</a></span></li><li><span class=\"mat\">See popular <a href=\"/cmp/UK-Government---Department-For-Transport/faq\">questions &amp; answers about Driver and Vehicle Licensing Agency</a></span></li></ul></div></div></div></td></tr></tbody></table><div aria-live=\"polite\"></div></div></div><div class=\"slider_sub_item\"></div></div></div><div class=\"kebabMenu\"><button aria-expanded=\"false\" aria-haspopup=\"true\" aria-label=\"Job actions\" class=\"kebabMenu-button\"><svg fill=\"none\" height=\"24\" viewbox=\"0 0 24 24\" width=\"24\" xmlns=\"http://www.w3.org/2000/svg\"><path d=\"M12 7C13.1 7 14 6.1 14 5C14 3.9 13.1 3 12 3C10.9 3 10 3.9 10 5C10 6.1 10.9 7 12 7ZM12 10C10.9 10 10 10.9 10 12C10 13.1 10.9 14 12 14C13.1 14 14 13.1 14 12C14 10.9 13.1 10 12 10ZM12 17C10.9 17 10 17.9 10 19C10 20.1 10.9 21 12 21C13.1 21 14 20.1 14 19C14 17.9 13.1 17 12 17Z\" fill=\"#2d2d2d\"></path></svg></button></div></a><span aria-live=\"polite\" class=\"visually-hidden\"></span><a class=\"tapItem fs-unmask result job_8f4f625b330076c2 resultWithShelf sponTapItem tapItem-noPadding desktop\" data-hide-spinner=\"true\" data-hiring-event=\"false\" data-jk=\"8f4f625b330076c2\" data-mobtk=\"1fcbs9vrttvac800\" href=\"/rc/clk?jk=8f4f625b330076c2&amp;fccid=d3a6b711581a7620&amp;vjs=3\" id=\"job_8f4f625b330076c2\" rel=\"nofollow\" target=\"_blank\"><div class=\"slider_container\"><div class=\"slider_list\"><div class=\"slider_item\"><div class=\"job_seen_beacon\"><table cellpadding=\"0\" cellspacing=\"0\" class=\"jobCard_mainContent\" role=\"presentation\"><tbody><tr><td class=\"resultContent\"><div class=\"heading4 color-text-primary singleLineTitle tapItem-gutter\"><h2 class=\"jobTitle jobTitle-color-purple jobTitle-newJob\"><div class=\"new topLeft holisticNewBlue desktop\"><span class=\"label\">new</span></div><span title=\"Senior Business and Systems Analyst\">Senior Business and Systems Analyst</span></h2></div><div class=\"heading6 company_location tapItem-gutter\"><pre><span class=\"companyName\">Cwm Taf Morgannwg University Health Board</span><span class=\"ratingsDisplay\"><span aria-label=\"5.0 of stars rating\" class=\"ratingNumber\" role=\"img\"><span aria-hidden=\"true\">5.0</span><svg aria-hidden=\"true\" class=\"starIcon\" fill=\"none\" height=\"12\" viewbox=\"0 0 16 16\" width=\"12\" xmlns=\"http://www.w3.org/2000/svg\"><path d=\"M8 12.8709L12.4542 15.5593C12.7807 15.7563 13.1835 15.4636 13.0968 15.0922L11.9148 10.0254L15.8505 6.61581C16.1388 6.36608 15.9847 5.89257 15.6047 5.86033L10.423 5.42072L8.39696 0.640342C8.24839 0.289808 7.7516 0.289808 7.60303 0.640341L5.57696 5.42072L0.395297 5.86033C0.015274 5.89257 -0.13882 6.36608 0.149443 6.61581L4.0852 10.0254L2.90318 15.0922C2.81653 15.4636 3.21932 15.7563 3.54584 15.5593L8 12.8709Z\" fill=\"#767676\"></path></svg></span></span><div class=\"companyLocation\">Bridgend<!-- --> <!-- -->CF31 3SH</div></pre></div><div class=\"heading6 tapItem-gutter metadataContainer\"><div class=\"metadata salary-snippet-container\"><span class=\"salary-snippet\">£38,890 - £44,503 a year</span></div></div><div class=\"heading6 error-text tapItem-gutter\"></div></td></tr></tbody></table><table class=\"jobCardShelfContainer\" role=\"presentation\"><tbody><tr class=\"jobCardShelf\"></tr><tr class=\"underShelfFooter\"><td><div class=\"heading6 tapItem-gutter result-footer\"><div class=\"job-snippet\"><ul style=\"list-style-type:circle;margin-top: 0px;margin-bottom: 0px;padding-left:20px;\">\n",
      "<li>The post requires good digital and technical/solution skills, BI/reporting skills, good problem solving skills, process and <b>data</b> mapping skills and the ability…</li>\n",
      "</ul></div><span class=\"date\">1 day ago</span><span class=\"result-link-bar-separator\">·</span><button aria-expanded=\"false\" class=\"sl resultLink more_links_button\" type=\"button\">More...</button></div><div class=\"tab-container\"><div class=\"more-links-container result-tab\" role=\"presentation\"><div class=\"more_links\"><button class=\"close-button\" title=\"Close\" type=\"button\"></button><ul><li><span class=\"mat\">View all <a href=\"/Cwm-Taf-Morgannwg-University-Health-Board-jobs\">Cwm Taf Morgannwg University Health Board jobs</a> - <a href=\"/jobs-in-Bridgend\">Bridgend jobs</a></span></li><li><span class=\"mat\">Salary Search: <a href=\"/career/salaries/Business%20Systems%20Analyst/Bridgend?campaignid=serp-more&amp;fromjk=8f4f625b330076c2&amp;from=serp-more\">Senior Business and Systems Analyst salaries</a></span></li><li><span class=\"mat\">See popular <a href=\"/cmp/Cwm-Taf-Morgannwg-University-Health-Board/faq\">questions &amp; answers about Cwm Taf Morgannwg University Health Board</a></span></li></ul></div></div></div></td></tr></tbody></table><div aria-live=\"polite\"></div></div></div><div class=\"slider_sub_item\"></div></div></div><div class=\"kebabMenu\"><button aria-expanded=\"false\" aria-haspopup=\"true\" aria-label=\"Job actions\" class=\"kebabMenu-button\"><svg fill=\"none\" height=\"24\" viewbox=\"0 0 24 24\" width=\"24\" xmlns=\"http://www.w3.org/2000/svg\"><path d=\"M12 7C13.1 7 14 6.1 14 5C14 3.9 13.1 3 12 3C10.9 3 10 3.9 10 5C10 6.1 10.9 7 12 7ZM12 10C10.9 10 10 10.9 10 12C10 13.1 10.9 14 12 14C13.1 14 14 13.1 14 12C14 10.9 13.1 10 12 10ZM12 17C10.9 17 10 17.9 10 19C10 20.1 10.9 21 12 21C13.1 21 14 20.1 14 19C14 17.9 13.1 17 12 17Z\" fill=\"#2d2d2d\"></path></svg></button></div></a><span aria-live=\"polite\" class=\"visually-hidden\"></span><a class=\"tapItem fs-unmask result job_1cb84703adf1e1d2 resultWithShelf sponTapItem tapItem-noPadding desktop\" data-hide-spinner=\"true\" data-hiring-event=\"false\" data-jk=\"1cb84703adf1e1d2\" data-mobtk=\"1fcbs9vrttvac800\" href=\"/company/Business-in-Focus/jobs/Business-Analyst-1cb84703adf1e1d2?fccid=614d3ee7f5e1a3c4&amp;vjs=3\" id=\"job_1cb84703adf1e1d2\" rel=\"nofollow\" target=\"_blank\"><div class=\"slider_container\"><div class=\"slider_list\"><div class=\"slider_item\"><div class=\"job_seen_beacon\"><table cellpadding=\"0\" cellspacing=\"0\" class=\"jobCard_mainContent\" role=\"presentation\"><tbody><tr><td class=\"resultContent\"><div class=\"heading4 color-text-primary singleLineTitle tapItem-gutter\"><h2 class=\"jobTitle jobTitle-color-purple\"><span title=\"Business Analyst\">Business Analyst</span></h2></div><div class=\"heading6 company_location tapItem-gutter\"><pre><span class=\"companyName\">Business in Focus</span><div class=\"companyLocation\">Bridgend<span class=\"remote-bullet\">•</span><span>Temporarily Remote</span></div></pre></div><div class=\"heading6 tapItem-gutter metadataContainer\"><div class=\"metadata salary-snippet-container\"><span class=\"salary-snippet\">£30,000 - £32,500 a year</span></div></div><div class=\"heading6 error-text tapItem-gutter\"></div></td></tr></tbody></table><table class=\"jobCardShelfContainer\" role=\"presentation\"><tbody><tr class=\"jobCardShelf\"><td class=\"shelfItem indeedApply\"><span class=\"iaIcon\"></span><span class=\"ialbl iaTextBlack\">Easily apply to this job</span></td><td class=\"shelfItem urgentlyHiring\"><div class=\"urgentlyHiring\"><span class=\"urgentlyHiringIcon\"></span>Urgently needed</div></td></tr><tr class=\"underShelfFooter\"><td><div class=\"heading6 tapItem-gutter result-footer\"><div class=\"job-snippet\"><ul style=\"list-style-type:circle;margin-top: 0px;margin-bottom: 0px;padding-left:20px;\">\n",
      "<li style=\"margin-bottom:0px;\">Ability to interpret and present written information and <b>data</b> in a structured and accurate manner.</li>\n",
      "<li>Experience of collating <b>data</b> from a variety of sources,…</li>\n",
      "</ul></div><span class=\"date\">17 days ago</span><span class=\"result-link-bar-separator\">·</span><button aria-expanded=\"false\" class=\"sl resultLink more_links_button\" type=\"button\">More...</button></div><div class=\"tab-container\"><div class=\"more-links-container result-tab\" role=\"presentation\"><div class=\"more_links\"><button class=\"close-button\" title=\"Close\" type=\"button\"></button><ul><li><span class=\"mat\">View all <a href=\"/Business-in-Focus-jobs\">Business in Focus jobs</a> - <a href=\"/jobs-in-Bridgend\">Bridgend jobs</a></span></li><li><span class=\"mat\">Salary Search: <a href=\"/career/business-analyst/salaries/Bridgend?campaignid=serp-more&amp;fromjk=1cb84703adf1e1d2&amp;from=serp-more\">Business Analyst salaries in Bridgend</a></span></li></ul></div></div></div></td></tr></tbody></table><div aria-live=\"polite\"></div></div></div><div class=\"slider_sub_item\"></div></div></div><div class=\"kebabMenu\"><button aria-expanded=\"false\" aria-haspopup=\"true\" aria-label=\"Job actions\" class=\"kebabMenu-button\"><svg fill=\"none\" height=\"24\" viewbox=\"0 0 24 24\" width=\"24\" xmlns=\"http://www.w3.org/2000/svg\"><path d=\"M12 7C13.1 7 14 6.1 14 5C14 3.9 13.1 3 12 3C10.9 3 10 3.9 10 5C10 6.1 10.9 7 12 7ZM12 10C10.9 10 10 10.9 10 12C10 13.1 10.9 14 12 14C13.1 14 14 13.1 14 12C14 10.9 13.1 10 12 10ZM12 17C10.9 17 10 17.9 10 19C10 20.1 10.9 21 12 21C13.1 21 14 20.1 14 19C14 17.9 13.1 17 12 17Z\" fill=\"#2d2d2d\"></path></svg></button></div></a><span aria-live=\"polite\" class=\"visually-hidden\"></span><div class=\"mosaic-zone\" id=\"mosaic-afterTenthJobResult\"></div><a class=\"tapItem fs-unmask result job_f31202e4a9674ab5 resultWithShelf sponTapItem tapItem-noPadding desktop\" data-hide-spinner=\"true\" data-hiring-event=\"false\" data-jk=\"f31202e4a9674ab5\" data-mobtk=\"1fcbs9vrttvac800\" href=\"/company/The-Royal-Mint/jobs/E-Commerce-Performance-Analyst-f31202e4a9674ab5?fccid=4501cc7b852fc3cc&amp;vjs=3\" id=\"job_f31202e4a9674ab5\" rel=\"nofollow\" target=\"_blank\"><div class=\"slider_container\"><div class=\"slider_list\"><div class=\"slider_item\"><div class=\"job_seen_beacon\"><table cellpadding=\"0\" cellspacing=\"0\" class=\"jobCard_mainContent\" role=\"presentation\"><tbody><tr><td class=\"resultContent\"><div class=\"heading4 color-text-primary singleLineTitle tapItem-gutter\"><h2 class=\"jobTitle jobTitle-color-purple\"><span title=\"E-Commerce Performance Analyst\">E-Commerce Performance Analyst</span></h2></div><div class=\"heading6 company_location tapItem-gutter\"><pre><span class=\"companyName\"><a class=\"turnstileLink companyOverviewLink\" data-tn-element=\"companyName\" href=\"/cmp/The-Royal-Mint\" rel=\"noopener\" target=\"_blank\">The Royal Mint</a></span><span class=\"ratingsDisplay withRatingLink\"><a class=\"ratingLink\" data-tn-variant=\"cmplinktst2\" href=\"/cmp/The-Royal-Mint/reviews\" rel=\"noopener\" target=\"_blank\" title=\"The Royal Mint reviews\"><span aria-label=\"2.7 of stars rating\" class=\"ratingNumber\" role=\"img\"><span aria-hidden=\"true\">2.7</span><svg aria-hidden=\"true\" class=\"starIcon\" fill=\"none\" height=\"12\" viewbox=\"0 0 16 16\" width=\"12\" xmlns=\"http://www.w3.org/2000/svg\"><path d=\"M8 12.8709L12.4542 15.5593C12.7807 15.7563 13.1835 15.4636 13.0968 15.0922L11.9148 10.0254L15.8505 6.61581C16.1388 6.36608 15.9847 5.89257 15.6047 5.86033L10.423 5.42072L8.39696 0.640342C8.24839 0.289808 7.7516 0.289808 7.60303 0.640341L5.57696 5.42072L0.395297 5.86033C0.015274 5.89257 -0.13882 6.36608 0.149443 6.61581L4.0852 10.0254L2.90318 15.0922C2.81653 15.4636 3.21932 15.7563 3.54584 15.5593L8 12.8709Z\" fill=\"#767676\"></path></svg></span></a></span><div class=\"companyLocation\">Llantrisant<!-- --> <!-- -->CF72 8YT</div></pre></div><div class=\"heading6 tapItem-gutter metadataContainer\"><div class=\"metadata salary-snippet-container\"><span class=\"salary-snippet\">£35,000 a year</span></div></div><div class=\"heading6 error-text tapItem-gutter\"></div></td></tr></tbody></table><table class=\"jobCardShelfContainer\" role=\"presentation\"><tbody><tr class=\"jobCardShelf\"><td class=\"shelfItem indeedApply\"><span class=\"iaIcon\"></span><span class=\"ialbl iaTextBlack\">Easily apply to this job</span></td></tr><tr class=\"underShelfFooter\"><td><div class=\"heading6 tapItem-gutter result-footer\"><div class=\"job-snippet\"><ul style=\"list-style-type:circle;margin-top: 0px;margin-bottom: 0px;padding-left:20px;\">\n",
      "<li style=\"margin-bottom:0px;\">Expertise with analytics tools (e.g. Google Analytics) and online <b>data</b> analysis.</li>\n",
      "<li>Collaborate wider Insights and IT teams to support business intelligence, data…</li>\n",
      "</ul></div><span class=\"date\">15 days ago</span><span class=\"result-link-bar-separator\">·</span><button aria-expanded=\"false\" class=\"sl resultLink more_links_button\" type=\"button\">More...</button></div><div class=\"tab-container\"><div class=\"more-links-container result-tab\" role=\"presentation\"><div class=\"more_links\"><button class=\"close-button\" title=\"Close\" type=\"button\"></button><ul><li><span class=\"mat\">View all <a href=\"/The-Royal-Mint-jobs\">The Royal Mint jobs</a> - <a href=\"/jobs-in-Llantrisant\">Llantrisant jobs</a></span></li><li><span class=\"mat\">Salary Search: <a href=\"/career/salaries/E-commerce%20Specialist/Llantrisant?campaignid=serp-more&amp;fromjk=f31202e4a9674ab5&amp;from=serp-more\">E-Commerce Performance Analyst salaries</a></span></li><li><span class=\"mat\">See popular <a href=\"/cmp/The-Royal-Mint/faq\">questions &amp; answers about The Royal Mint</a></span></li></ul></div></div></div></td></tr></tbody></table><div aria-live=\"polite\"></div></div></div><div class=\"slider_sub_item\"></div></div></div><div class=\"kebabMenu\"><button aria-expanded=\"false\" aria-haspopup=\"true\" aria-label=\"Job actions\" class=\"kebabMenu-button\"><svg fill=\"none\" height=\"24\" viewbox=\"0 0 24 24\" width=\"24\" xmlns=\"http://www.w3.org/2000/svg\"><path d=\"M12 7C13.1 7 14 6.1 14 5C14 3.9 13.1 3 12 3C10.9 3 10 3.9 10 5C10 6.1 10.9 7 12 7ZM12 10C10.9 10 10 10.9 10 12C10 13.1 10.9 14 12 14C13.1 14 14 13.1 14 12C14 10.9 13.1 10 12 10ZM12 17C10.9 17 10 17.9 10 19C10 20.1 10.9 21 12 21C13.1 21 14 20.1 14 19C14 17.9 13.1 17 12 17Z\" fill=\"#2d2d2d\"></path></svg></button></div></a><span aria-live=\"polite\" class=\"visually-hidden\"></span><a class=\"tapItem fs-unmask result job_23964741e0d2512a resultWithShelf sponTapItem tapItem-noPadding desktop\" data-hide-spinner=\"true\" data-hiring-event=\"false\" data-jk=\"23964741e0d2512a\" data-mobtk=\"1fcbs9vrttvac800\" href=\"/company/Alexander-Mann-Solution's/jobs/Graduate-Opportunity-23964741e0d2512a?fccid=43907c6ff1136578&amp;vjs=3\" id=\"job_23964741e0d2512a\" rel=\"nofollow\" target=\"_blank\"><div class=\"slider_container\"><div class=\"slider_list\"><div class=\"slider_item\"><div class=\"job_seen_beacon\"><table cellpadding=\"0\" cellspacing=\"0\" class=\"jobCard_mainContent\" role=\"presentation\"><tbody><tr><td class=\"resultContent\"><div class=\"heading4 color-text-primary singleLineTitle tapItem-gutter\"><h2 class=\"jobTitle jobTitle-color-purple jobTitle-newJob\"><div class=\"new topLeft holisticNewBlue desktop\"><span class=\"label\">new</span></div><span title=\"Graduate Opportunity, Junior Data Analyst - Big Four Accounting Firm\">Graduate Opportunity, Junior Data Analyst - Big Four Account...</span></h2></div><div class=\"heading6 company_location tapItem-gutter\"><pre><span class=\"companyName\"><a class=\"turnstileLink companyOverviewLink\" data-tn-element=\"companyName\" href=\"/cmp/Ams-9\" rel=\"noopener\" target=\"_blank\">Alexander Mann Solution's</a></span><span class=\"ratingsDisplay withRatingLink\"><a class=\"ratingLink\" data-tn-variant=\"cmplinktst2\" href=\"/cmp/Ams-9/reviews\" rel=\"noopener\" target=\"_blank\" title=\"Alexander Mann Solution's reviews\"><span aria-label=\"3.6 of stars rating\" class=\"ratingNumber\" role=\"img\"><span aria-hidden=\"true\">3.6</span><svg aria-hidden=\"true\" class=\"starIcon\" fill=\"none\" height=\"12\" viewbox=\"0 0 16 16\" width=\"12\" xmlns=\"http://www.w3.org/2000/svg\"><path d=\"M8 12.8709L12.4542 15.5593C12.7807 15.7563 13.1835 15.4636 13.0968 15.0922L11.9148 10.0254L15.8505 6.61581C16.1388 6.36608 15.9847 5.89257 15.6047 5.86033L10.423 5.42072L8.39696 0.640342C8.24839 0.289808 7.7516 0.289808 7.60303 0.640341L5.57696 5.42072L0.395297 5.86033C0.015274 5.89257 -0.13882 6.36608 0.149443 6.61581L4.0852 10.0254L2.90318 15.0922C2.81653 15.4636 3.21932 15.7563 3.54584 15.5593L8 12.8709Z\" fill=\"#767676\"></path></svg></span></a></span><div class=\"companyLocation\">Cowbridge</div></pre></div><div class=\"heading6 tapItem-gutter metadataContainer\"><div class=\"metadata salary-snippet-container\"><span class=\"salary-snippet\">£11 an hour</span></div></div><div class=\"heading6 error-text tapItem-gutter\"></div></td></tr></tbody></table><table class=\"jobCardShelfContainer\" role=\"presentation\"><tbody><tr class=\"jobCardShelf\"><td class=\"shelfItem indeedApply\"><span class=\"iaIcon\"></span><span class=\"ialbl iaTextBlack\">Easily apply to this job</span></td></tr><tr class=\"underShelfFooter\"><td><div class=\"heading6 tapItem-gutter result-footer\"><div class=\"job-snippet\"><ul style=\"list-style-type:circle;margin-top: 0px;margin-bottom: 0px;padding-left:20px;\">\n",
      "<li style=\"margin-bottom:0px;\">Providing support for <b>data</b> acquisition and extraction from clients’ accounting systems.</li>\n",
      "<li>Carrying out <b>data</b> quality checks which will need to be raised to the…</li>\n",
      "</ul></div><span class=\"date\">8 days ago</span><span class=\"result-link-bar-separator\">·</span><button aria-expanded=\"false\" class=\"sl resultLink more_links_button\" type=\"button\">More...</button></div><div class=\"tab-container\"><div class=\"more-links-container result-tab\" role=\"presentation\"><div class=\"more_links\"><button class=\"close-button\" title=\"Close\" type=\"button\"></button><ul><li><span class=\"mat\">View all <a href=\"/jobs?q=Alexander+Mann+Solution%27s\">Alexander Mann Solution's jobs</a> - <a href=\"/jobs-in-Cowbridge\">Cowbridge jobs</a></span></li><li><span class=\"mat\">Salary Search: <a href=\"/career/salaries/Junior%20Data%20Analyst/Cowbridge?campaignid=serp-more&amp;fromjk=23964741e0d2512a&amp;from=serp-more\">Graduate Opportunity, Junior Data Analyst - Big Four Accounting Firm salaries</a></span></li><li><span class=\"mat\">See popular <a href=\"/cmp/Ams-9/faq\">questions &amp; answers about Alexander Mann Solution's</a></span></li></ul></div></div></div></td></tr></tbody></table><div aria-live=\"polite\"></div></div></div><div class=\"slider_sub_item\"></div></div></div><div class=\"kebabMenu\"><button aria-expanded=\"false\" aria-haspopup=\"true\" aria-label=\"Job actions\" class=\"kebabMenu-button\"><svg fill=\"none\" height=\"24\" viewbox=\"0 0 24 24\" width=\"24\" xmlns=\"http://www.w3.org/2000/svg\"><path d=\"M12 7C13.1 7 14 6.1 14 5C14 3.9 13.1 3 12 3C10.9 3 10 3.9 10 5C10 6.1 10.9 7 12 7ZM12 10C10.9 10 10 10.9 10 12C10 13.1 10.9 14 12 14C13.1 14 14 13.1 14 12C14 10.9 13.1 10 12 10ZM12 17C10.9 17 10 17.9 10 19C10 20.1 10.9 21 12 21C13.1 21 14 20.1 14 19C14 17.9 13.1 17 12 17Z\" fill=\"#2d2d2d\"></path></svg></button></div></a><span aria-live=\"polite\" class=\"visually-hidden\"></span><div aria-live=\"polite\" id=\"toast\"></div><script>\n",
      "    window.JCS_onClk = function(e){var t;e.preventDefault(),e.stopPropagation();for(var n=e.target,o=!1,r=!1;n;){if(null!==(t=n.className)&&void 0!==t&&t.indexOf)if(-1<n.className.indexOf(\"bookmark \"))o=!0;else if(-1<n.className.indexOf(\"dislike-container \"))r=!0;else if(-1<n.className.indexOf(\"result \")){o?window.jcsSavedJobs.indexOf(n.id)<0&&window.jcsSavedJobs.push(n.id):r?window.jcsDislikedJobs.indexOf(n.id)<0&&window.jcsDislikedJobs.push(n.id):window.jcsClickedJob=n.id;break}n=n.parentNode}};\n",
      "    (function(){var e;window.jcsSavedJobs||(e=document.getElementById(\"mosaic-provider-jobcards\"),window.jcsSavedJobs=[],window.jcsDislikedJobs=[],window.jcsClickedJob=null,e&&(e.addEventListener(\"click\",window.JCS_onClk),window.removeJcsOnClickFn=function(){e&&e.removeEventListener(\"click\",window.JCS_onClk)}))})();\n",
      "    </script></div></div> \n",
      "--------------------\n",
      "2 <div class=\"mosaic-zone\" id=\"mosaic-afterFifthJobResult\"></div> \n",
      "--------------------\n",
      "3 <div class=\"mosaic-zone\" id=\"mosaic-afterTenthJobResult\"></div> \n",
      "--------------------\n",
      "4 <div class=\"mosaic-zone\" id=\"mosaic-zone-belowJobResultsPagination\"></div> \n",
      "--------------------\n",
      "5 <div class=\"mosaic-zone\" id=\"mosaic-zone-serpBottomRelatedLinks\"></div> \n",
      "--------------------\n",
      "6 <div class=\"mosaic-zone\" id=\"mosaic-zone-belowPageContent\"></div> \n",
      "--------------------\n",
      "7 <div class=\"mosaic-zone\" id=\"mosaic-zone-serpModalBrowserPush\"></div> \n",
      "--------------------\n",
      "8 <div class=\"mosaic-zone\" id=\"mosaic-zone-serpBottomBody\"><div class=\"mosaic mosaic-provider-dislike-feedback\" id=\"mosaic-provider-dislike-feedback\"><div class=\"animatedToast fs-unmask\"><div class=\"\" id=\"gratitude\"></div></div></div></div> \n",
      "--------------------\n"
     ]
    }
   ],
   "source": [
    "i=0\n",
    "aa=[]\n",
    "for hi in soup.select('div[class=\"mosaic-zone\"]'):\n",
    "#     try:\n",
    "#         if 'jobmap[' in hi.string: \n",
    "    print(i,hi,'\\n--------------------')\n",
    "    aa.append(hi)\n",
    "    i=i+1\n",
    "#     except:\n",
    "#         pass\n",
    "# i=0\n",
    "# hh=[]\n",
    "# for bb in aa.split('jobmap['):\n",
    "#     if bb[1]==']':\n",
    "#         hh.append(bb)\n",
    "#     elif bb[2]==']':\n",
    "#         hh.append(bb)\n"
   ]
  },
  {
   "cell_type": "code",
   "execution_count": 101,
   "id": "13e9629c",
   "metadata": {},
   "outputs": [],
   "source": [
    "# ab=soup.find_all('div',class_=\"mosaic-zone\")\n",
    "ab=soup.find_all('div',class_=\"job_seen_beacon\")"
   ]
  },
  {
   "cell_type": "code",
   "execution_count": 114,
   "id": "ac7caf41",
   "metadata": {},
   "outputs": [],
   "source": [
    "abc=ab[0].find_all('td', class_='resultContent')\n",
    "# td class='resultContent'"
   ]
  },
  {
   "cell_type": "code",
   "execution_count": 100,
   "id": "4fb1e18b",
   "metadata": {},
   "outputs": [],
   "source": [
    "id_soup = soup('<div class=\"job_seen_beacon\"></p>', 'html.parser')\n",
    "\n",
    "# 'my id'\n",
    "ai"
   ]
  },
  {
   "cell_type": "code",
   "execution_count": 121,
   "id": "34d8ba1a",
   "metadata": {},
   "outputs": [],
   "source": [
    "abcd=abc[0].find_all('span')"
   ]
  },
  {
   "cell_type": "code",
   "execution_count": 124,
   "id": "d87fbc56",
   "metadata": {},
   "outputs": [
    {
     "data": {
      "text/plain": [
       "[<span title=\"Data Analyst\">Data Analyst</span>,\n",
       " <span class=\"companyName\"><a class=\"turnstileLink companyOverviewLink\" data-tn-element=\"companyName\" href=\"/cmp/Swansea-Council\" rel=\"noopener\" target=\"_blank\">Swansea Council</a></span>,\n",
       " <span class=\"ratingsDisplay withRatingLink\"><a class=\"ratingLink\" data-tn-variant=\"cmplinktst2\" href=\"/cmp/Swansea-Council/reviews\" rel=\"noopener\" target=\"_blank\" title=\"Swansea Council reviews\"><span aria-label=\"3.1 of stars rating\" class=\"ratingNumber\" role=\"img\"><span aria-hidden=\"true\">3.1</span><svg aria-hidden=\"true\" class=\"starIcon\" fill=\"none\" height=\"12\" viewbox=\"0 0 16 16\" width=\"12\" xmlns=\"http://www.w3.org/2000/svg\"><path d=\"M8 12.8709L12.4542 15.5593C12.7807 15.7563 13.1835 15.4636 13.0968 15.0922L11.9148 10.0254L15.8505 6.61581C16.1388 6.36608 15.9847 5.89257 15.6047 5.86033L10.423 5.42072L8.39696 0.640342C8.24839 0.289808 7.7516 0.289808 7.60303 0.640341L5.57696 5.42072L0.395297 5.86033C0.015274 5.89257 -0.13882 6.36608 0.149443 6.61581L4.0852 10.0254L2.90318 15.0922C2.81653 15.4636 3.21932 15.7563 3.54584 15.5593L8 12.8709Z\" fill=\"#767676\"></path></svg></span></a></span>,\n",
       " <span aria-label=\"3.1 of stars rating\" class=\"ratingNumber\" role=\"img\"><span aria-hidden=\"true\">3.1</span><svg aria-hidden=\"true\" class=\"starIcon\" fill=\"none\" height=\"12\" viewbox=\"0 0 16 16\" width=\"12\" xmlns=\"http://www.w3.org/2000/svg\"><path d=\"M8 12.8709L12.4542 15.5593C12.7807 15.7563 13.1835 15.4636 13.0968 15.0922L11.9148 10.0254L15.8505 6.61581C16.1388 6.36608 15.9847 5.89257 15.6047 5.86033L10.423 5.42072L8.39696 0.640342C8.24839 0.289808 7.7516 0.289808 7.60303 0.640341L5.57696 5.42072L0.395297 5.86033C0.015274 5.89257 -0.13882 6.36608 0.149443 6.61581L4.0852 10.0254L2.90318 15.0922C2.81653 15.4636 3.21932 15.7563 3.54584 15.5593L8 12.8709Z\" fill=\"#767676\"></path></svg></span>,\n",
       " <span aria-hidden=\"true\">3.1</span>,\n",
       " <span class=\"salary-snippet\">£29,577 - £32,910 a year</span>]"
      ]
     },
     "execution_count": 124,
     "metadata": {},
     "output_type": "execute_result"
    }
   ],
   "source": [
    "abcd"
   ]
  },
  {
   "cell_type": "code",
   "execution_count": 237,
   "id": "d4ddae00",
   "metadata": {},
   "outputs": [
    {
     "name": "stdout",
     "output_type": "stream",
     "text": [
      "Swansea Council\n",
      "Academy for Project Managment Ltd\n",
      "Shawbrook Bank\n",
      "PRA Health Sciences\n",
      "Driver and Vehicle Licensing Agency\n",
      "Page Personnel - UK\n",
      "Driver and Vehicle Licensing Agency\n",
      "Driver and Vehicle Licensing Agency\n",
      "Cwm Taf Morgannwg University Health Board\n",
      "Business in Focus\n",
      "The Royal Mint\n",
      "Alexander Mann Solution's\n"
     ]
    },
    {
     "data": {
      "text/html": [
       "<div>\n",
       "<style scoped>\n",
       "    .dataframe tbody tr th:only-of-type {\n",
       "        vertical-align: middle;\n",
       "    }\n",
       "\n",
       "    .dataframe tbody tr th {\n",
       "        vertical-align: top;\n",
       "    }\n",
       "\n",
       "    .dataframe thead th {\n",
       "        text-align: right;\n",
       "    }\n",
       "</style>\n",
       "<table border=\"1\" class=\"dataframe\">\n",
       "  <thead>\n",
       "    <tr style=\"text-align: right;\">\n",
       "      <th></th>\n",
       "      <th>Company</th>\n",
       "      <th>Job Title</th>\n",
       "    </tr>\n",
       "  </thead>\n",
       "  <tbody>\n",
       "    <tr>\n",
       "      <th>0</th>\n",
       "      <td>Swansea Council</td>\n",
       "      <td>Data Analyst</td>\n",
       "    </tr>\n",
       "    <tr>\n",
       "      <th>1</th>\n",
       "      <td>Academy for Project Managment Ltd</td>\n",
       "      <td>Data Analyst Assessor (Freelance)</td>\n",
       "    </tr>\n",
       "    <tr>\n",
       "      <th>2</th>\n",
       "      <td>Shawbrook Bank</td>\n",
       "      <td>Operational Risk Analyst</td>\n",
       "    </tr>\n",
       "    <tr>\n",
       "      <th>3</th>\n",
       "      <td>PRA Health Sciences</td>\n",
       "      <td>Grants Analyst</td>\n",
       "    </tr>\n",
       "    <tr>\n",
       "      <th>4</th>\n",
       "      <td>Driver and Vehicle Licensing Agency</td>\n",
       "      <td>Associate Business Analyst</td>\n",
       "    </tr>\n",
       "    <tr>\n",
       "      <th>5</th>\n",
       "      <td>Page Personnel - UK</td>\n",
       "      <td>Data Analyst</td>\n",
       "    </tr>\n",
       "    <tr>\n",
       "      <th>6</th>\n",
       "      <td>Driver and Vehicle Licensing Agency</td>\n",
       "      <td>Senior Business Analyst</td>\n",
       "    </tr>\n",
       "    <tr>\n",
       "      <th>7</th>\n",
       "      <td>Driver and Vehicle Licensing Agency</td>\n",
       "      <td>Lead Business Analyst</td>\n",
       "    </tr>\n",
       "    <tr>\n",
       "      <th>8</th>\n",
       "      <td>Cwm Taf Morgannwg University Health Board</td>\n",
       "      <td>Senior Business and Systems Analyst</td>\n",
       "    </tr>\n",
       "    <tr>\n",
       "      <th>9</th>\n",
       "      <td>Business in Focus</td>\n",
       "      <td>Business Analyst</td>\n",
       "    </tr>\n",
       "    <tr>\n",
       "      <th>10</th>\n",
       "      <td>The Royal Mint</td>\n",
       "      <td>E-Commerce Performance Analyst</td>\n",
       "    </tr>\n",
       "    <tr>\n",
       "      <th>11</th>\n",
       "      <td>Alexander Mann Solution's</td>\n",
       "      <td>Graduate Opportunity, Junior Data Analyst - Bi...</td>\n",
       "    </tr>\n",
       "  </tbody>\n",
       "</table>\n",
       "</div>"
      ],
      "text/plain": [
       "                                      Company  \\\n",
       "0                             Swansea Council   \n",
       "1           Academy for Project Managment Ltd   \n",
       "2                              Shawbrook Bank   \n",
       "3                         PRA Health Sciences   \n",
       "4         Driver and Vehicle Licensing Agency   \n",
       "5                         Page Personnel - UK   \n",
       "6         Driver and Vehicle Licensing Agency   \n",
       "7         Driver and Vehicle Licensing Agency   \n",
       "8   Cwm Taf Morgannwg University Health Board   \n",
       "9                           Business in Focus   \n",
       "10                             The Royal Mint   \n",
       "11                  Alexander Mann Solution's   \n",
       "\n",
       "                                            Job Title  \n",
       "0                                        Data Analyst  \n",
       "1                   Data Analyst Assessor (Freelance)  \n",
       "2                            Operational Risk Analyst  \n",
       "3                                      Grants Analyst  \n",
       "4                          Associate Business Analyst  \n",
       "5                                        Data Analyst  \n",
       "6                             Senior Business Analyst  \n",
       "7                               Lead Business Analyst  \n",
       "8                 Senior Business and Systems Analyst  \n",
       "9                                    Business Analyst  \n",
       "10                     E-Commerce Performance Analyst  \n",
       "11  Graduate Opportunity, Junior Data Analyst - Bi...  "
      ]
     },
     "execution_count": 237,
     "metadata": {},
     "output_type": "execute_result"
    }
   ],
   "source": [
    "# ab=soup.find_all('div',class_=\"job_seen_beacon\")\n",
    "\n",
    "\n",
    "def extract_Company(soup): \n",
    "    jobs = []\n",
    "    for div in soup.find_all(name=\"div\", attrs={\"class\":\"job_seen_beacon\"}):\n",
    "#         print(div)\n",
    "#         for a in div.find_all(name=\"a\", attrs={\"data-tn-element\":\"companyName\"}):\n",
    "        for a in div.find_all(name=\"span\", attrs={\"class\":\"companyName\"}):\n",
    "            print(a.string)\n",
    "            jobs.append(a.string)\n",
    "    return(jobs)\n",
    "\n",
    "def extract_title(soup): \n",
    "    jobs = []\n",
    "    company=[]\n",
    "    for div in soup.find_all(name=\"div\", attrs={\"class\":\"job_seen_beacon\"}):\n",
    "\n",
    "        \n",
    "        for a in div.find_all(name=\"span\", attrs={\"class\":\"companyName\"}):\n",
    "            print(a.string)\n",
    "            company.append(a.string)\n",
    "            \n",
    "        for ab in div.find_all(name=\"span\"):\n",
    "            try:\n",
    "                aComp=ab['title']\n",
    "                jobs.append(aComp)\n",
    "            except:# Exception:\n",
    "                pass\n",
    "#             try:\n",
    "#                 aComp=ab.class['companyName']\n",
    "#                 company.append(aComp)\n",
    "#             except Exception:\n",
    "#                 pass\n",
    "    return jobs, company\n",
    "\n",
    "a,b=extract_title(soup)\n",
    "# b=extract_Company(soup)\n",
    "jobs=pd.DataFrame(columns=['Company','Job Title'])\n",
    "jobs['Company']=b\n",
    "jobs['Job Title']=a\n",
    "jobs"
   ]
  },
  {
   "cell_type": "code",
   "execution_count": 233,
   "id": "90fd0b68",
   "metadata": {},
   "outputs": [
    {
     "data": {
      "text/plain": [
       "['Swansea Council',\n",
       " 'Data Analyst',\n",
       " 'Academy for Project Managment Ltd',\n",
       " 'Data Analyst Assessor (Freelance)',\n",
       " 'Shawbrook Bank',\n",
       " 'Operational Risk Analyst',\n",
       " 'PRA Health Sciences',\n",
       " 'Grants Analyst',\n",
       " 'Driver and Vehicle Licensing Agency',\n",
       " 'Associate Business Analyst',\n",
       " 'Page Personnel - UK',\n",
       " 'Data Analyst',\n",
       " 'Driver and Vehicle Licensing Agency',\n",
       " 'Senior Business Analyst',\n",
       " 'Driver and Vehicle Licensing Agency',\n",
       " 'Lead Business Analyst',\n",
       " 'Cwm Taf Morgannwg University Health Board',\n",
       " 'Senior Business and Systems Analyst',\n",
       " 'Business in Focus',\n",
       " 'Business Analyst',\n",
       " 'The Royal Mint',\n",
       " 'E-Commerce Performance Analyst',\n",
       " \"Alexander Mann Solution's\",\n",
       " 'Graduate Opportunity, Junior Data Analyst - Big Four Accounting Firm']"
      ]
     },
     "execution_count": 233,
     "metadata": {},
     "output_type": "execute_result"
    }
   ],
   "source": [
    "a"
   ]
  },
  {
   "cell_type": "code",
   "execution_count": 188,
   "id": "d8929123",
   "metadata": {},
   "outputs": [
    {
     "ename": "KeyError",
     "evalue": "'title'",
     "output_type": "error",
     "traceback": [
      "\u001b[1;31m---------------------------------------------------------------------------\u001b[0m",
      "\u001b[1;31mKeyError\u001b[0m                                  Traceback (most recent call last)",
      "\u001b[1;32m<ipython-input-188-7b9b9a1b9a98>\u001b[0m in \u001b[0;36m<module>\u001b[1;34m\u001b[0m\n\u001b[1;32m----> 1\u001b[1;33m \u001b[0mabv_\u001b[0m\u001b[1;33m=\u001b[0m\u001b[0mabv\u001b[0m\u001b[1;33m[\u001b[0m\u001b[1;36m0\u001b[0m\u001b[1;33m]\u001b[0m\u001b[1;33m[\u001b[0m\u001b[1;34m'title'\u001b[0m\u001b[1;33m]\u001b[0m\u001b[1;33m\u001b[0m\u001b[1;33m\u001b[0m\u001b[0m\n\u001b[0m",
      "\u001b[1;32m~\\anaconda3\\lib\\site-packages\\bs4\\element.py\u001b[0m in \u001b[0;36m__getitem__\u001b[1;34m(self, key)\u001b[0m\n\u001b[0;32m   1404\u001b[0m         \"\"\"tag[key] returns the value of the 'key' attribute for the Tag,\n\u001b[0;32m   1405\u001b[0m         and throws an exception if it's not there.\"\"\"\n\u001b[1;32m-> 1406\u001b[1;33m         \u001b[1;32mreturn\u001b[0m \u001b[0mself\u001b[0m\u001b[1;33m.\u001b[0m\u001b[0mattrs\u001b[0m\u001b[1;33m[\u001b[0m\u001b[0mkey\u001b[0m\u001b[1;33m]\u001b[0m\u001b[1;33m\u001b[0m\u001b[1;33m\u001b[0m\u001b[0m\n\u001b[0m\u001b[0;32m   1407\u001b[0m \u001b[1;33m\u001b[0m\u001b[0m\n\u001b[0;32m   1408\u001b[0m     \u001b[1;32mdef\u001b[0m \u001b[0m__iter__\u001b[0m\u001b[1;33m(\u001b[0m\u001b[0mself\u001b[0m\u001b[1;33m)\u001b[0m\u001b[1;33m:\u001b[0m\u001b[1;33m\u001b[0m\u001b[1;33m\u001b[0m\u001b[0m\n",
      "\u001b[1;31mKeyError\u001b[0m: 'title'"
     ]
    }
   ],
   "source": [
    "abv_=abv[0]['title']\n"
   ]
  }
 ],
 "metadata": {
  "kernelspec": {
   "display_name": "Python 3",
   "language": "python",
   "name": "python3"
  },
  "language_info": {
   "codemirror_mode": {
    "name": "ipython",
    "version": 3
   },
   "file_extension": ".py",
   "mimetype": "text/x-python",
   "name": "python",
   "nbconvert_exporter": "python",
   "pygments_lexer": "ipython3",
   "version": "3.8.8"
  },
  "varInspector": {
   "cols": {
    "lenName": 16,
    "lenType": 16,
    "lenVar": 40
   },
   "kernels_config": {
    "python": {
     "delete_cmd_postfix": "",
     "delete_cmd_prefix": "del ",
     "library": "var_list.py",
     "varRefreshCmd": "print(var_dic_list())"
    },
    "r": {
     "delete_cmd_postfix": ") ",
     "delete_cmd_prefix": "rm(",
     "library": "var_list.r",
     "varRefreshCmd": "cat(var_dic_list()) "
    }
   },
   "types_to_exclude": [
    "module",
    "function",
    "builtin_function_or_method",
    "instance",
    "_Feature"
   ],
   "window_display": false
  }
 },
 "nbformat": 4,
 "nbformat_minor": 5
}
